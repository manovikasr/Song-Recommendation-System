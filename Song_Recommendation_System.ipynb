{
 "cells": [
  {
   "cell_type": "markdown",
   "metadata": {
    "id": "SvTjipD23QIH"
   },
   "source": [
    "# **CMPE 256 - Project**\n",
    "\n",
    "## **Spotify Song Recommendation System**\n",
    "\n",
    "\n"
   ]
  },
  {
   "cell_type": "markdown",
   "metadata": {
    "id": "jC1XS1A3bXkq"
   },
   "source": [
    "This project is a prototype of Spotify Song Classification and Recommendation system that can classify the Songs Genre labels and can recommend a set of songs to the user given the user's playlist of songs and user's ratings to those songs.\n",
    "<br><br>\n",
    "To run this project, 'songs.csv' file is required which contains the dependent dataset in it."
   ]
  },
  {
   "cell_type": "markdown",
   "metadata": {
    "id": "BeyTLWmgc9wI"
   },
   "source": [
    "### Importing Libraries and Dataset"
   ]
  },
  {
   "cell_type": "markdown",
   "metadata": {
    "id": "mm_pq50HbA7b"
   },
   "source": [
    "This project is developed using multiple modules present in various Python libraries.\n",
    "<br><br>\n",
    "The dataset used in this project is Spotify songs dataset which has around 100,000 records in it."
   ]
  },
  {
   "cell_type": "code",
   "execution_count": 3,
   "metadata": {
    "id": "BfvCRDxRc_GJ"
   },
   "outputs": [],
   "source": [
    "# Importing Libraries\n",
    "\n",
    "import pandas as pd\n",
    "import numpy as np\n",
    "import matplotlib.pyplot as plt\n",
    "import os, io\n",
    "import math\n",
    "import operator\n",
    "\n",
    "from random import randint\n",
    "from sklearn import svm\n",
    "from sklearn.feature_selection import VarianceThreshold\n",
    "from sklearn.decomposition import PCA\n",
    "from sklearn.pipeline import Pipeline\n",
    "from sklearn.preprocessing import LabelEncoder, MinMaxScaler, normalize, StandardScaler\n",
    "from sklearn.ensemble import VotingClassifier, RandomForestClassifier, AdaBoostClassifier, ExtraTreesClassifier\n",
    "from sklearn.metrics import f1_score, mean_squared_error, silhouette_score, adjusted_rand_score, calinski_harabasz_score\n",
    "from sklearn.neighbors import KNeighborsClassifier\n",
    "from sklearn.tree import DecisionTreeClassifier\n",
    "from sklearn.multiclass import OneVsRestClassifier\n",
    "from sklearn.cluster import KMeans, DBSCAN\n",
    "from sklearn.model_selection import train_test_split\n",
    "from sklearn.metrics.pairwise import cosine_similarity\n",
    "from matplotlib import pyplot as plt\n",
    "from sklearn.model_selection import StratifiedKFold, GridSearchCV\n",
    "import seaborn as sns; sns.set(style='white')\n",
    "pd.options.mode.chained_assignment = None \n",
    "%matplotlib inline\n",
    "%config InlineBackend.figure_format = 'retina'\n"
   ]
  },
  {
   "cell_type": "code",
   "execution_count": 4,
   "metadata": {
    "id": "6sRGUrJb1iYF"
   },
   "outputs": [],
   "source": [
    "# Loading the songs dataset from CSV file into a dataframe\n",
    "\n",
    "df = pd.read_csv('songs.csv', low_memory=False)"
   ]
  },
  {
   "cell_type": "markdown",
   "metadata": {
    "id": "Vyj1UUn4XI8t"
   },
   "source": [
    "# Data Preprocessing"
   ]
  },
  {
   "cell_type": "code",
   "execution_count": 5,
   "metadata": {
    "colab": {
     "base_uri": "https://localhost:8080/",
     "height": 301
    },
    "id": "AFmZgvw1XcGw",
    "outputId": "2fc780b7-030c-41b3-e3c7-570c1362f72f"
   },
   "outputs": [
    {
     "data": {
      "text/html": [
       "<div>\n",
       "<style scoped>\n",
       "    .dataframe tbody tr th:only-of-type {\n",
       "        vertical-align: middle;\n",
       "    }\n",
       "\n",
       "    .dataframe tbody tr th {\n",
       "        vertical-align: top;\n",
       "    }\n",
       "\n",
       "    .dataframe thead th {\n",
       "        text-align: right;\n",
       "    }\n",
       "</style>\n",
       "<table border=\"1\" class=\"dataframe\">\n",
       "  <thead>\n",
       "    <tr style=\"text-align: right;\">\n",
       "      <th></th>\n",
       "      <th>Name</th>\n",
       "      <th>Danceability</th>\n",
       "      <th>Energy</th>\n",
       "      <th>Key</th>\n",
       "      <th>Loudness</th>\n",
       "      <th>Mode</th>\n",
       "      <th>Speechness</th>\n",
       "      <th>Acousticness</th>\n",
       "      <th>Instrumentalness</th>\n",
       "      <th>Liveness</th>\n",
       "      <th>Valence</th>\n",
       "      <th>Tempo</th>\n",
       "      <th>Type</th>\n",
       "      <th>ID</th>\n",
       "      <th>Uri</th>\n",
       "      <th>Ref_Track</th>\n",
       "      <th>URL_features</th>\n",
       "      <th>Duration_ms</th>\n",
       "      <th>time_signature</th>\n",
       "      <th>Genre</th>\n",
       "    </tr>\n",
       "  </thead>\n",
       "  <tbody>\n",
       "    <tr>\n",
       "      <th>0</th>\n",
       "      <td>YuveYuveYu</td>\n",
       "      <td>0.624</td>\n",
       "      <td>0.857</td>\n",
       "      <td>10.0</td>\n",
       "      <td>-6.250</td>\n",
       "      <td>0.0</td>\n",
       "      <td>0.0542</td>\n",
       "      <td>0.020800</td>\n",
       "      <td>0.206000</td>\n",
       "      <td>0.110</td>\n",
       "      <td>0.324</td>\n",
       "      <td>131.926</td>\n",
       "      <td>audio_features</td>\n",
       "      <td>6J2VvzKwWc2f0JP5RQVZjq</td>\n",
       "      <td>spotify:track:6J2VvzKwWc2f0JP5RQVZjq</td>\n",
       "      <td>https://api.spotify.com/v1/tracks/6J2VvzKwWc2f...</td>\n",
       "      <td>https://api.spotify.com/v1/audio-analysis/6J2V...</td>\n",
       "      <td>282920.0</td>\n",
       "      <td>4.0</td>\n",
       "      <td>celticmetal</td>\n",
       "    </tr>\n",
       "    <tr>\n",
       "      <th>1</th>\n",
       "      <td>Gloryhammer</td>\n",
       "      <td>0.517</td>\n",
       "      <td>0.916</td>\n",
       "      <td>0.0</td>\n",
       "      <td>-4.933</td>\n",
       "      <td>1.0</td>\n",
       "      <td>0.0559</td>\n",
       "      <td>0.000182</td>\n",
       "      <td>0.001910</td>\n",
       "      <td>0.306</td>\n",
       "      <td>0.444</td>\n",
       "      <td>135.996</td>\n",
       "      <td>audio_features</td>\n",
       "      <td>4HA34COgxgVJ6zK88UN4Ik</td>\n",
       "      <td>spotify:track:4HA34COgxgVJ6zK88UN4Ik</td>\n",
       "      <td>https://api.spotify.com/v1/tracks/4HA34COgxgVJ...</td>\n",
       "      <td>https://api.spotify.com/v1/audio-analysis/4HA3...</td>\n",
       "      <td>300320.0</td>\n",
       "      <td>4.0</td>\n",
       "      <td>celticmetal</td>\n",
       "    </tr>\n",
       "    <tr>\n",
       "      <th>2</th>\n",
       "      <td>Nostos</td>\n",
       "      <td>0.251</td>\n",
       "      <td>0.894</td>\n",
       "      <td>8.0</td>\n",
       "      <td>-4.103</td>\n",
       "      <td>0.0</td>\n",
       "      <td>0.0570</td>\n",
       "      <td>0.014400</td>\n",
       "      <td>0.000000</td>\n",
       "      <td>0.123</td>\n",
       "      <td>0.297</td>\n",
       "      <td>114.223</td>\n",
       "      <td>audio_features</td>\n",
       "      <td>3W6Xik6Xxf06JuUoZSATlD</td>\n",
       "      <td>spotify:track:3W6Xik6Xxf06JuUoZSATlD</td>\n",
       "      <td>https://api.spotify.com/v1/tracks/3W6Xik6Xxf06...</td>\n",
       "      <td>https://api.spotify.com/v1/audio-analysis/3W6X...</td>\n",
       "      <td>175353.0</td>\n",
       "      <td>4.0</td>\n",
       "      <td>celticmetal</td>\n",
       "    </tr>\n",
       "    <tr>\n",
       "      <th>3</th>\n",
       "      <td>Yggdrasil</td>\n",
       "      <td>0.469</td>\n",
       "      <td>0.743</td>\n",
       "      <td>1.0</td>\n",
       "      <td>-5.570</td>\n",
       "      <td>0.0</td>\n",
       "      <td>0.0272</td>\n",
       "      <td>0.002220</td>\n",
       "      <td>0.000111</td>\n",
       "      <td>0.276</td>\n",
       "      <td>0.481</td>\n",
       "      <td>86.953</td>\n",
       "      <td>audio_features</td>\n",
       "      <td>2gGveBaLJQMtJ43X4UL5kH</td>\n",
       "      <td>spotify:track:2gGveBaLJQMtJ43X4UL5kH</td>\n",
       "      <td>https://api.spotify.com/v1/tracks/2gGveBaLJQMt...</td>\n",
       "      <td>https://api.spotify.com/v1/audio-analysis/2gGv...</td>\n",
       "      <td>272292.0</td>\n",
       "      <td>4.0</td>\n",
       "      <td>celticmetal</td>\n",
       "    </tr>\n",
       "    <tr>\n",
       "      <th>4</th>\n",
       "      <td>Incense&amp;Iron</td>\n",
       "      <td>0.487</td>\n",
       "      <td>0.952</td>\n",
       "      <td>1.0</td>\n",
       "      <td>-4.429</td>\n",
       "      <td>0.0</td>\n",
       "      <td>0.0613</td>\n",
       "      <td>0.000228</td>\n",
       "      <td>0.000000</td>\n",
       "      <td>0.161</td>\n",
       "      <td>0.329</td>\n",
       "      <td>125.993</td>\n",
       "      <td>audio_features</td>\n",
       "      <td>1lRF81A1C9QoCgBcEop2zg</td>\n",
       "      <td>spotify:track:1lRF81A1C9QoCgBcEop2zg</td>\n",
       "      <td>https://api.spotify.com/v1/tracks/1lRF81A1C9Qo...</td>\n",
       "      <td>https://api.spotify.com/v1/audio-analysis/1lRF...</td>\n",
       "      <td>237933.0</td>\n",
       "      <td>4.0</td>\n",
       "      <td>celticmetal</td>\n",
       "    </tr>\n",
       "  </tbody>\n",
       "</table>\n",
       "</div>"
      ],
      "text/plain": [
       "           Name  Danceability  Energy  ...  Duration_ms  time_signature        Genre\n",
       "0    YuveYuveYu         0.624   0.857  ...     282920.0             4.0  celticmetal\n",
       "1   Gloryhammer         0.517   0.916  ...     300320.0             4.0  celticmetal\n",
       "2        Nostos         0.251   0.894  ...     175353.0             4.0  celticmetal\n",
       "3     Yggdrasil         0.469   0.743  ...     272292.0             4.0  celticmetal\n",
       "4  Incense&Iron         0.487   0.952  ...     237933.0             4.0  celticmetal\n",
       "\n",
       "[5 rows x 20 columns]"
      ]
     },
     "execution_count": 5,
     "metadata": {
      "tags": []
     },
     "output_type": "execute_result"
    }
   ],
   "source": [
    "# Displaying the first 5 records in the dataframe\n",
    "\n",
    "df.head()"
   ]
  },
  {
   "cell_type": "markdown",
   "metadata": {
    "id": "4rFn1gt2B3Vf"
   },
   "source": [
    "The above table shows the different columns present in the dataset and their data types initially."
   ]
  },
  {
   "cell_type": "code",
   "execution_count": 6,
   "metadata": {
    "colab": {
     "base_uri": "https://localhost:8080/",
     "height": 287
    },
    "id": "Vn4E-wwBXZ16",
    "outputId": "1b7e1910-3d08-4d72-e623-699c3a8e2032"
   },
   "outputs": [
    {
     "data": {
      "text/html": [
       "<div>\n",
       "<style scoped>\n",
       "    .dataframe tbody tr th:only-of-type {\n",
       "        vertical-align: middle;\n",
       "    }\n",
       "\n",
       "    .dataframe tbody tr th {\n",
       "        vertical-align: top;\n",
       "    }\n",
       "\n",
       "    .dataframe thead th {\n",
       "        text-align: right;\n",
       "    }\n",
       "</style>\n",
       "<table border=\"1\" class=\"dataframe\">\n",
       "  <thead>\n",
       "    <tr style=\"text-align: right;\">\n",
       "      <th></th>\n",
       "      <th>Danceability</th>\n",
       "      <th>Energy</th>\n",
       "      <th>Key</th>\n",
       "      <th>Loudness</th>\n",
       "      <th>Mode</th>\n",
       "      <th>Speechness</th>\n",
       "      <th>Acousticness</th>\n",
       "      <th>Instrumentalness</th>\n",
       "      <th>Liveness</th>\n",
       "      <th>Valence</th>\n",
       "      <th>Duration_ms</th>\n",
       "    </tr>\n",
       "  </thead>\n",
       "  <tbody>\n",
       "    <tr>\n",
       "      <th>count</th>\n",
       "      <td>131580.000000</td>\n",
       "      <td>131580.000000</td>\n",
       "      <td>131580.000000</td>\n",
       "      <td>131580.000000</td>\n",
       "      <td>131580.000000</td>\n",
       "      <td>131580.000000</td>\n",
       "      <td>131580.000000</td>\n",
       "      <td>131580.000000</td>\n",
       "      <td>131580.000000</td>\n",
       "      <td>131580.000000</td>\n",
       "      <td>1.315800e+05</td>\n",
       "    </tr>\n",
       "    <tr>\n",
       "      <th>mean</th>\n",
       "      <td>0.553784</td>\n",
       "      <td>0.648783</td>\n",
       "      <td>5.311356</td>\n",
       "      <td>-8.523482</td>\n",
       "      <td>0.618985</td>\n",
       "      <td>0.083736</td>\n",
       "      <td>0.270991</td>\n",
       "      <td>0.231870</td>\n",
       "      <td>0.193345</td>\n",
       "      <td>0.493751</td>\n",
       "      <td>2.536664e+05</td>\n",
       "    </tr>\n",
       "    <tr>\n",
       "      <th>std</th>\n",
       "      <td>0.182683</td>\n",
       "      <td>0.255634</td>\n",
       "      <td>3.570006</td>\n",
       "      <td>4.789160</td>\n",
       "      <td>0.485626</td>\n",
       "      <td>0.101581</td>\n",
       "      <td>0.323490</td>\n",
       "      <td>0.353740</td>\n",
       "      <td>0.162596</td>\n",
       "      <td>1.799546</td>\n",
       "      <td>1.256204e+05</td>\n",
       "    </tr>\n",
       "    <tr>\n",
       "      <th>min</th>\n",
       "      <td>0.000000</td>\n",
       "      <td>0.000000</td>\n",
       "      <td>-14.372000</td>\n",
       "      <td>-60.000000</td>\n",
       "      <td>0.000000</td>\n",
       "      <td>0.000000</td>\n",
       "      <td>0.000000</td>\n",
       "      <td>0.000000</td>\n",
       "      <td>0.000000</td>\n",
       "      <td>0.000000</td>\n",
       "      <td>3.000000e+00</td>\n",
       "    </tr>\n",
       "    <tr>\n",
       "      <th>25%</th>\n",
       "      <td>0.432000</td>\n",
       "      <td>0.487000</td>\n",
       "      <td>2.000000</td>\n",
       "      <td>-10.377000</td>\n",
       "      <td>0.000000</td>\n",
       "      <td>0.035900</td>\n",
       "      <td>0.007930</td>\n",
       "      <td>0.000002</td>\n",
       "      <td>0.095100</td>\n",
       "      <td>0.247000</td>\n",
       "      <td>1.909330e+05</td>\n",
       "    </tr>\n",
       "    <tr>\n",
       "      <th>50%</th>\n",
       "      <td>0.566000</td>\n",
       "      <td>0.690000</td>\n",
       "      <td>5.000000</td>\n",
       "      <td>-7.377000</td>\n",
       "      <td>1.000000</td>\n",
       "      <td>0.048300</td>\n",
       "      <td>0.105000</td>\n",
       "      <td>0.001480</td>\n",
       "      <td>0.125000</td>\n",
       "      <td>0.459000</td>\n",
       "      <td>2.290000e+05</td>\n",
       "    </tr>\n",
       "    <tr>\n",
       "      <th>75%</th>\n",
       "      <td>0.692000</td>\n",
       "      <td>0.853000</td>\n",
       "      <td>9.000000</td>\n",
       "      <td>-5.344000</td>\n",
       "      <td>1.000000</td>\n",
       "      <td>0.083000</td>\n",
       "      <td>0.487000</td>\n",
       "      <td>0.503000</td>\n",
       "      <td>0.246000</td>\n",
       "      <td>0.683000</td>\n",
       "      <td>2.854792e+05</td>\n",
       "    </tr>\n",
       "    <tr>\n",
       "      <th>max</th>\n",
       "      <td>0.988000</td>\n",
       "      <td>11.000000</td>\n",
       "      <td>11.000000</td>\n",
       "      <td>5.056000</td>\n",
       "      <td>1.000000</td>\n",
       "      <td>0.966000</td>\n",
       "      <td>0.996000</td>\n",
       "      <td>0.999000</td>\n",
       "      <td>1.000000</td>\n",
       "      <td>187.827000</td>\n",
       "      <td>5.949886e+06</td>\n",
       "    </tr>\n",
       "  </tbody>\n",
       "</table>\n",
       "</div>"
      ],
      "text/plain": [
       "        Danceability         Energy  ...        Valence   Duration_ms\n",
       "count  131580.000000  131580.000000  ...  131580.000000  1.315800e+05\n",
       "mean        0.553784       0.648783  ...       0.493751  2.536664e+05\n",
       "std         0.182683       0.255634  ...       1.799546  1.256204e+05\n",
       "min         0.000000       0.000000  ...       0.000000  3.000000e+00\n",
       "25%         0.432000       0.487000  ...       0.247000  1.909330e+05\n",
       "50%         0.566000       0.690000  ...       0.459000  2.290000e+05\n",
       "75%         0.692000       0.853000  ...       0.683000  2.854792e+05\n",
       "max         0.988000      11.000000  ...     187.827000  5.949886e+06\n",
       "\n",
       "[8 rows x 11 columns]"
      ]
     },
     "execution_count": 6,
     "metadata": {
      "tags": []
     },
     "output_type": "execute_result"
    }
   ],
   "source": [
    "# Displaying the descriptions and distribution of all the numerical columns in the dataframe\n",
    "\n",
    "df.describe()"
   ]
  },
  {
   "cell_type": "markdown",
   "metadata": {
    "id": "ymgqkHJNCGyh"
   },
   "source": [
    "It is required to drop the duplicate records based on the Song ID. If there are multiple records with same song ID, then the recommendation and classification would not be accurate."
   ]
  },
  {
   "cell_type": "code",
   "execution_count": 7,
   "metadata": {
    "id": "4WEhiigT6fBe"
   },
   "outputs": [],
   "source": [
    "# Dropping the duplicate records which have the same Song ID\n",
    "\n",
    "df = df.drop_duplicates(subset=['ID'], keep='first', inplace=False)"
   ]
  },
  {
   "cell_type": "code",
   "execution_count": 8,
   "metadata": {
    "colab": {
     "base_uri": "https://localhost:8080/"
    },
    "id": "iI8S7tjs6HvS",
    "outputId": "2d85facf-34af-4214-9398-f89af045287b"
   },
   "outputs": [
    {
     "data": {
      "text/plain": [
       "Name                 1\n",
       "Danceability         0\n",
       "Energy               0\n",
       "Key                  0\n",
       "Loudness             0\n",
       "Mode                 0\n",
       "Speechness           0\n",
       "Acousticness         0\n",
       "Instrumentalness     0\n",
       "Liveness             0\n",
       "Valence              0\n",
       "Tempo                0\n",
       "Type                 0\n",
       "ID                   0\n",
       "Uri                  0\n",
       "Ref_Track            0\n",
       "URL_features         0\n",
       "Duration_ms          0\n",
       "time_signature       0\n",
       "Genre               24\n",
       "dtype: int64"
      ]
     },
     "execution_count": 8,
     "metadata": {
      "tags": []
     },
     "output_type": "execute_result"
    }
   ],
   "source": [
    "# Displaying the counts of fields having null values\n",
    "\n",
    "df.isna().sum()"
   ]
  },
  {
   "cell_type": "markdown",
   "metadata": {
    "id": "9NwfHibVCU5A"
   },
   "source": [
    "It is observed that all the columns have all the values except for Song name and Genre name columns. We can impute the missing values if the columns are numerical. But as the columns are categorical and are String values, they can be dropped."
   ]
  },
  {
   "cell_type": "code",
   "execution_count": 9,
   "metadata": {
    "id": "P-ZAxsUxG-1r"
   },
   "outputs": [],
   "source": [
    "# Dropping the records which have Null values\n",
    "\n",
    "df = df.dropna()"
   ]
  },
  {
   "cell_type": "markdown",
   "metadata": {
    "id": "RoXpzEYuCs0N"
   },
   "source": [
    "There are few columns which are not significant and do not contribute to the feature vector of the songs. Hence these columns can be dropped."
   ]
  },
  {
   "cell_type": "code",
   "execution_count": 10,
   "metadata": {
    "id": "6xFVeNnShA1e"
   },
   "outputs": [],
   "source": [
    "# Dropping the columns which are not relevant and are not useful to train the model\n",
    "\n",
    "df = df.drop(columns=['Type', 'Uri', 'Ref_Track', 'URL_features', 'time_signature', 'Duration_ms'])"
   ]
  },
  {
   "cell_type": "markdown",
   "metadata": {
    "id": "OGL-SsroDCCM"
   },
   "source": [
    "The categorical values should be convert to numerical values before training any model or performing any calculations. Hence, they are encoded to numerical values using LabelEncoder module."
   ]
  },
  {
   "cell_type": "code",
   "execution_count": 11,
   "metadata": {
    "id": "3zcFERAURIqP"
   },
   "outputs": [],
   "source": [
    "# Encoding the columns ID and Genre which are in String format into Numerical format and replacing them in the dataframe\n",
    "\n",
    "le = LabelEncoder()\n",
    "ID = le.fit_transform(df['ID'])\n",
    "Genre_ID = le.fit_transform(df['Genre'])\n",
    "df['ID'] = ID\n",
    "df['Genre_ID'] = Genre_ID"
   ]
  },
  {
   "cell_type": "code",
   "execution_count": 12,
   "metadata": {
    "colab": {
     "base_uri": "https://localhost:8080/",
     "height": 287
    },
    "id": "Mgb5zyDxXggh",
    "outputId": "4a1f24c6-ef83-4bc0-9bea-1eedd9f288de"
   },
   "outputs": [
    {
     "data": {
      "text/html": [
       "<div>\n",
       "<style scoped>\n",
       "    .dataframe tbody tr th:only-of-type {\n",
       "        vertical-align: middle;\n",
       "    }\n",
       "\n",
       "    .dataframe tbody tr th {\n",
       "        vertical-align: top;\n",
       "    }\n",
       "\n",
       "    .dataframe thead th {\n",
       "        text-align: right;\n",
       "    }\n",
       "</style>\n",
       "<table border=\"1\" class=\"dataframe\">\n",
       "  <thead>\n",
       "    <tr style=\"text-align: right;\">\n",
       "      <th></th>\n",
       "      <th>Danceability</th>\n",
       "      <th>Energy</th>\n",
       "      <th>Key</th>\n",
       "      <th>Loudness</th>\n",
       "      <th>Mode</th>\n",
       "      <th>Speechness</th>\n",
       "      <th>Acousticness</th>\n",
       "      <th>Instrumentalness</th>\n",
       "      <th>Liveness</th>\n",
       "      <th>Valence</th>\n",
       "      <th>ID</th>\n",
       "      <th>Genre_ID</th>\n",
       "    </tr>\n",
       "  </thead>\n",
       "  <tbody>\n",
       "    <tr>\n",
       "      <th>count</th>\n",
       "      <td>107972.000000</td>\n",
       "      <td>107972.000000</td>\n",
       "      <td>107972.000000</td>\n",
       "      <td>107972.000000</td>\n",
       "      <td>107972.000000</td>\n",
       "      <td>107972.000000</td>\n",
       "      <td>107972.000000</td>\n",
       "      <td>107972.000000</td>\n",
       "      <td>107972.000000</td>\n",
       "      <td>107972.000000</td>\n",
       "      <td>107972.00000</td>\n",
       "      <td>107972.000000</td>\n",
       "    </tr>\n",
       "    <tr>\n",
       "      <th>mean</th>\n",
       "      <td>0.550961</td>\n",
       "      <td>0.642297</td>\n",
       "      <td>5.310043</td>\n",
       "      <td>-8.671982</td>\n",
       "      <td>0.617493</td>\n",
       "      <td>0.084604</td>\n",
       "      <td>0.279793</td>\n",
       "      <td>0.241156</td>\n",
       "      <td>0.194110</td>\n",
       "      <td>0.465389</td>\n",
       "      <td>53985.50000</td>\n",
       "      <td>306.211647</td>\n",
       "    </tr>\n",
       "    <tr>\n",
       "      <th>std</th>\n",
       "      <td>0.184471</td>\n",
       "      <td>0.249686</td>\n",
       "      <td>3.567536</td>\n",
       "      <td>4.916758</td>\n",
       "      <td>0.486002</td>\n",
       "      <td>0.102570</td>\n",
       "      <td>0.328709</td>\n",
       "      <td>0.358198</td>\n",
       "      <td>0.164054</td>\n",
       "      <td>0.267501</td>\n",
       "      <td>31168.97597</td>\n",
       "      <td>178.154912</td>\n",
       "    </tr>\n",
       "    <tr>\n",
       "      <th>min</th>\n",
       "      <td>0.000000</td>\n",
       "      <td>0.000000</td>\n",
       "      <td>0.000000</td>\n",
       "      <td>-60.000000</td>\n",
       "      <td>0.000000</td>\n",
       "      <td>0.000000</td>\n",
       "      <td>0.000000</td>\n",
       "      <td>0.000000</td>\n",
       "      <td>0.000000</td>\n",
       "      <td>0.000000</td>\n",
       "      <td>0.00000</td>\n",
       "      <td>0.000000</td>\n",
       "    </tr>\n",
       "    <tr>\n",
       "      <th>25%</th>\n",
       "      <td>0.427000</td>\n",
       "      <td>0.477000</td>\n",
       "      <td>2.000000</td>\n",
       "      <td>-10.570000</td>\n",
       "      <td>0.000000</td>\n",
       "      <td>0.036100</td>\n",
       "      <td>0.008138</td>\n",
       "      <td>0.000002</td>\n",
       "      <td>0.095100</td>\n",
       "      <td>0.239000</td>\n",
       "      <td>26992.75000</td>\n",
       "      <td>158.000000</td>\n",
       "    </tr>\n",
       "    <tr>\n",
       "      <th>50%</th>\n",
       "      <td>0.564000</td>\n",
       "      <td>0.683000</td>\n",
       "      <td>5.000000</td>\n",
       "      <td>-7.479000</td>\n",
       "      <td>1.000000</td>\n",
       "      <td>0.048500</td>\n",
       "      <td>0.114000</td>\n",
       "      <td>0.001990</td>\n",
       "      <td>0.125000</td>\n",
       "      <td>0.453000</td>\n",
       "      <td>53985.50000</td>\n",
       "      <td>314.000000</td>\n",
       "    </tr>\n",
       "    <tr>\n",
       "      <th>75%</th>\n",
       "      <td>0.691000</td>\n",
       "      <td>0.851000</td>\n",
       "      <td>9.000000</td>\n",
       "      <td>-5.397000</td>\n",
       "      <td>1.000000</td>\n",
       "      <td>0.083900</td>\n",
       "      <td>0.513000</td>\n",
       "      <td>0.557000</td>\n",
       "      <td>0.247000</td>\n",
       "      <td>0.681000</td>\n",
       "      <td>80978.25000</td>\n",
       "      <td>460.000000</td>\n",
       "    </tr>\n",
       "    <tr>\n",
       "      <th>max</th>\n",
       "      <td>0.988000</td>\n",
       "      <td>1.000000</td>\n",
       "      <td>11.000000</td>\n",
       "      <td>5.056000</td>\n",
       "      <td>1.000000</td>\n",
       "      <td>0.966000</td>\n",
       "      <td>0.996000</td>\n",
       "      <td>0.999000</td>\n",
       "      <td>1.000000</td>\n",
       "      <td>1.000000</td>\n",
       "      <td>107971.00000</td>\n",
       "      <td>611.000000</td>\n",
       "    </tr>\n",
       "  </tbody>\n",
       "</table>\n",
       "</div>"
      ],
      "text/plain": [
       "        Danceability         Energy  ...            ID       Genre_ID\n",
       "count  107972.000000  107972.000000  ...  107972.00000  107972.000000\n",
       "mean        0.550961       0.642297  ...   53985.50000     306.211647\n",
       "std         0.184471       0.249686  ...   31168.97597     178.154912\n",
       "min         0.000000       0.000000  ...       0.00000       0.000000\n",
       "25%         0.427000       0.477000  ...   26992.75000     158.000000\n",
       "50%         0.564000       0.683000  ...   53985.50000     314.000000\n",
       "75%         0.691000       0.851000  ...   80978.25000     460.000000\n",
       "max         0.988000       1.000000  ...  107971.00000     611.000000\n",
       "\n",
       "[8 rows x 12 columns]"
      ]
     },
     "execution_count": 12,
     "metadata": {
      "tags": []
     },
     "output_type": "execute_result"
    }
   ],
   "source": [
    "# Displaying the descriptions of all the numerical columns after encoding and dropping unwanted records\n",
    "\n",
    "df.describe()"
   ]
  },
  {
   "cell_type": "code",
   "execution_count": 13,
   "metadata": {
    "colab": {
     "base_uri": "https://localhost:8080/",
     "height": 197
    },
    "id": "QzkDz3IEbK8I",
    "outputId": "024e0213-c5f2-41a0-b688-210c334a95ca"
   },
   "outputs": [
    {
     "data": {
      "text/html": [
       "<div>\n",
       "<style scoped>\n",
       "    .dataframe tbody tr th:only-of-type {\n",
       "        vertical-align: middle;\n",
       "    }\n",
       "\n",
       "    .dataframe tbody tr th {\n",
       "        vertical-align: top;\n",
       "    }\n",
       "\n",
       "    .dataframe thead th {\n",
       "        text-align: right;\n",
       "    }\n",
       "</style>\n",
       "<table border=\"1\" class=\"dataframe\">\n",
       "  <thead>\n",
       "    <tr style=\"text-align: right;\">\n",
       "      <th></th>\n",
       "      <th>Name</th>\n",
       "      <th>Danceability</th>\n",
       "      <th>Energy</th>\n",
       "      <th>Key</th>\n",
       "      <th>Loudness</th>\n",
       "      <th>Mode</th>\n",
       "      <th>Speechness</th>\n",
       "      <th>Acousticness</th>\n",
       "      <th>Instrumentalness</th>\n",
       "      <th>Liveness</th>\n",
       "      <th>Valence</th>\n",
       "      <th>Tempo</th>\n",
       "      <th>ID</th>\n",
       "      <th>Genre</th>\n",
       "      <th>Genre_ID</th>\n",
       "    </tr>\n",
       "  </thead>\n",
       "  <tbody>\n",
       "    <tr>\n",
       "      <th>0</th>\n",
       "      <td>YuveYuveYu</td>\n",
       "      <td>0.624</td>\n",
       "      <td>0.857</td>\n",
       "      <td>10.0</td>\n",
       "      <td>-6.250</td>\n",
       "      <td>0.0</td>\n",
       "      <td>0.0542</td>\n",
       "      <td>0.020800</td>\n",
       "      <td>0.206000</td>\n",
       "      <td>0.110</td>\n",
       "      <td>0.324</td>\n",
       "      <td>131.926</td>\n",
       "      <td>87344</td>\n",
       "      <td>celticmetal</td>\n",
       "      <td>80</td>\n",
       "    </tr>\n",
       "    <tr>\n",
       "      <th>1</th>\n",
       "      <td>Gloryhammer</td>\n",
       "      <td>0.517</td>\n",
       "      <td>0.916</td>\n",
       "      <td>0.0</td>\n",
       "      <td>-4.933</td>\n",
       "      <td>1.0</td>\n",
       "      <td>0.0559</td>\n",
       "      <td>0.000182</td>\n",
       "      <td>0.001910</td>\n",
       "      <td>0.306</td>\n",
       "      <td>0.444</td>\n",
       "      <td>135.996</td>\n",
       "      <td>59537</td>\n",
       "      <td>celticmetal</td>\n",
       "      <td>80</td>\n",
       "    </tr>\n",
       "    <tr>\n",
       "      <th>2</th>\n",
       "      <td>Nostos</td>\n",
       "      <td>0.251</td>\n",
       "      <td>0.894</td>\n",
       "      <td>8.0</td>\n",
       "      <td>-4.103</td>\n",
       "      <td>0.0</td>\n",
       "      <td>0.0570</td>\n",
       "      <td>0.014400</td>\n",
       "      <td>0.000000</td>\n",
       "      <td>0.123</td>\n",
       "      <td>0.297</td>\n",
       "      <td>114.223</td>\n",
       "      <td>49059</td>\n",
       "      <td>celticmetal</td>\n",
       "      <td>80</td>\n",
       "    </tr>\n",
       "    <tr>\n",
       "      <th>3</th>\n",
       "      <td>Yggdrasil</td>\n",
       "      <td>0.469</td>\n",
       "      <td>0.743</td>\n",
       "      <td>1.0</td>\n",
       "      <td>-5.570</td>\n",
       "      <td>0.0</td>\n",
       "      <td>0.0272</td>\n",
       "      <td>0.002220</td>\n",
       "      <td>0.000111</td>\n",
       "      <td>0.276</td>\n",
       "      <td>0.481</td>\n",
       "      <td>86.953</td>\n",
       "      <td>37479</td>\n",
       "      <td>celticmetal</td>\n",
       "      <td>80</td>\n",
       "    </tr>\n",
       "    <tr>\n",
       "      <th>4</th>\n",
       "      <td>Incense&amp;Iron</td>\n",
       "      <td>0.487</td>\n",
       "      <td>0.952</td>\n",
       "      <td>1.0</td>\n",
       "      <td>-4.429</td>\n",
       "      <td>0.0</td>\n",
       "      <td>0.0613</td>\n",
       "      <td>0.000228</td>\n",
       "      <td>0.000000</td>\n",
       "      <td>0.161</td>\n",
       "      <td>0.329</td>\n",
       "      <td>125.993</td>\n",
       "      <td>24764</td>\n",
       "      <td>celticmetal</td>\n",
       "      <td>80</td>\n",
       "    </tr>\n",
       "  </tbody>\n",
       "</table>\n",
       "</div>"
      ],
      "text/plain": [
       "           Name  Danceability  Energy  ...     ID        Genre  Genre_ID\n",
       "0    YuveYuveYu         0.624   0.857  ...  87344  celticmetal        80\n",
       "1   Gloryhammer         0.517   0.916  ...  59537  celticmetal        80\n",
       "2        Nostos         0.251   0.894  ...  49059  celticmetal        80\n",
       "3     Yggdrasil         0.469   0.743  ...  37479  celticmetal        80\n",
       "4  Incense&Iron         0.487   0.952  ...  24764  celticmetal        80\n",
       "\n",
       "[5 rows x 15 columns]"
      ]
     },
     "execution_count": 13,
     "metadata": {
      "tags": []
     },
     "output_type": "execute_result"
    }
   ],
   "source": [
    "# Displaying the top 5 records in the dataframe\n",
    "\n",
    "df.head()"
   ]
  },
  {
   "cell_type": "code",
   "execution_count": 14,
   "metadata": {
    "colab": {
     "base_uri": "https://localhost:8080/"
    },
    "id": "xqNR2YDY4D6e",
    "outputId": "2531bd6b-654f-42d3-bff1-33f740a1c419"
   },
   "outputs": [
    {
     "name": "stdout",
     "output_type": "stream",
     "text": [
      "Unique Genres: 612\n"
     ]
    }
   ],
   "source": [
    "# Displaying the count of Unique Genres in the dataframe\n",
    "\n",
    "print(\"Unique Genres:\", len(np.unique(df['Genre_ID'])))"
   ]
  },
  {
   "cell_type": "code",
   "execution_count": 15,
   "metadata": {
    "colab": {
     "base_uri": "https://localhost:8080/"
    },
    "id": "rMqJwptzuZIh",
    "outputId": "26f03b84-2968-4508-ad8e-e1477a212517"
   },
   "outputs": [
    {
     "name": "stdout",
     "output_type": "stream",
     "text": [
      "Unique Songs: 107972\n"
     ]
    }
   ],
   "source": [
    "# Displaying the count of Unique Songs in the dataframe\n",
    "\n",
    "print(\"Unique Songs:\", len(np.unique(df['ID'])))"
   ]
  },
  {
   "cell_type": "markdown",
   "metadata": {
    "id": "RnILFI5eDSfb"
   },
   "source": [
    "After cleaning the dataset, there are 107972 records and 612 Unique Genres."
   ]
  },
  {
   "cell_type": "code",
   "execution_count": 16,
   "metadata": {
    "colab": {
     "base_uri": "https://localhost:8080/",
     "height": 664
    },
    "id": "U1PPGr6FEivM",
    "outputId": "01b92596-149b-4b22-cd87-93b30a85494b"
   },
   "outputs": [
    {
     "data": {
      "image/png": "[encoded data removed]",
      "text/plain": [
       "<Figure size 720x720 with 1 Axes>"
      ]
     },
     "metadata": {
      "image/png": {
       "height": 648,
       "width": 663
      },
      "needs_background": "light",
      "tags": []
     },
     "output_type": "display_data"
    }
   ],
   "source": [
    "# Plotting the correlation heat map of columns in dataframe\n",
    "\n",
    "# Reference: https://towardsdatascience.com/better-heatmaps-and-correlation-matrix-plots-in-python-41445d0f2bec\n",
    "# https://matplotlib.org/api/pyplot_api.html\n",
    "\n",
    "def plot_corr(df,size=10):\n",
    "    corr = df.corr()  #the default method is pearson\n",
    "    fig, ax = plt.subplots(figsize=(size, size))\n",
    "    ax.matshow(corr, cmap=plt.cm.Oranges)\n",
    "    plt.xticks(range(len(corr.columns)), corr.columns)\n",
    "    plt.yticks(range(len(corr.columns)), corr.columns)\n",
    "    for tick in ax.get_xticklabels():\n",
    "        tick.set_rotation(45)    \n",
    "    plt.show()\n",
    "    \n",
    "plot_corr(df)"
   ]
  },
  {
   "cell_type": "markdown",
   "metadata": {
    "id": "ZxUjBg5oDbG5"
   },
   "source": [
    "Based on the above Correlation heat map, it is clear that ID and Genre_ID are less correlated with other columns. Hence they may not be used while performing recommendation."
   ]
  },
  {
   "cell_type": "code",
   "execution_count": 17,
   "metadata": {
    "id": "Q3zMLs71TGlF"
   },
   "outputs": [],
   "source": [
    "# Dropping the ID columns and string columns which are not required to train the classification model\n",
    "\n",
    "df = df.drop(columns=['Genre'])\n",
    "data = df.drop(columns=['ID', 'Genre_ID', 'Name'])"
   ]
  },
  {
   "cell_type": "code",
   "execution_count": 18,
   "metadata": {
    "colab": {
     "base_uri": "https://localhost:8080/",
     "height": 197
    },
    "id": "1Gws1r3l_muj",
    "outputId": "3a4c81f2-8c6d-4849-e2b4-918e9a13d909"
   },
   "outputs": [
    {
     "data": {
      "text/html": [
       "<div>\n",
       "<style scoped>\n",
       "    .dataframe tbody tr th:only-of-type {\n",
       "        vertical-align: middle;\n",
       "    }\n",
       "\n",
       "    .dataframe tbody tr th {\n",
       "        vertical-align: top;\n",
       "    }\n",
       "\n",
       "    .dataframe thead th {\n",
       "        text-align: right;\n",
       "    }\n",
       "</style>\n",
       "<table border=\"1\" class=\"dataframe\">\n",
       "  <thead>\n",
       "    <tr style=\"text-align: right;\">\n",
       "      <th></th>\n",
       "      <th>Danceability</th>\n",
       "      <th>Energy</th>\n",
       "      <th>Key</th>\n",
       "      <th>Loudness</th>\n",
       "      <th>Mode</th>\n",
       "      <th>Speechness</th>\n",
       "      <th>Acousticness</th>\n",
       "      <th>Instrumentalness</th>\n",
       "      <th>Liveness</th>\n",
       "      <th>Valence</th>\n",
       "      <th>Tempo</th>\n",
       "    </tr>\n",
       "  </thead>\n",
       "  <tbody>\n",
       "    <tr>\n",
       "      <th>0</th>\n",
       "      <td>0.624</td>\n",
       "      <td>0.857</td>\n",
       "      <td>10.0</td>\n",
       "      <td>-6.250</td>\n",
       "      <td>0.0</td>\n",
       "      <td>0.0542</td>\n",
       "      <td>0.020800</td>\n",
       "      <td>0.206000</td>\n",
       "      <td>0.110</td>\n",
       "      <td>0.324</td>\n",
       "      <td>131.926</td>\n",
       "    </tr>\n",
       "    <tr>\n",
       "      <th>1</th>\n",
       "      <td>0.517</td>\n",
       "      <td>0.916</td>\n",
       "      <td>0.0</td>\n",
       "      <td>-4.933</td>\n",
       "      <td>1.0</td>\n",
       "      <td>0.0559</td>\n",
       "      <td>0.000182</td>\n",
       "      <td>0.001910</td>\n",
       "      <td>0.306</td>\n",
       "      <td>0.444</td>\n",
       "      <td>135.996</td>\n",
       "    </tr>\n",
       "    <tr>\n",
       "      <th>2</th>\n",
       "      <td>0.251</td>\n",
       "      <td>0.894</td>\n",
       "      <td>8.0</td>\n",
       "      <td>-4.103</td>\n",
       "      <td>0.0</td>\n",
       "      <td>0.0570</td>\n",
       "      <td>0.014400</td>\n",
       "      <td>0.000000</td>\n",
       "      <td>0.123</td>\n",
       "      <td>0.297</td>\n",
       "      <td>114.223</td>\n",
       "    </tr>\n",
       "    <tr>\n",
       "      <th>3</th>\n",
       "      <td>0.469</td>\n",
       "      <td>0.743</td>\n",
       "      <td>1.0</td>\n",
       "      <td>-5.570</td>\n",
       "      <td>0.0</td>\n",
       "      <td>0.0272</td>\n",
       "      <td>0.002220</td>\n",
       "      <td>0.000111</td>\n",
       "      <td>0.276</td>\n",
       "      <td>0.481</td>\n",
       "      <td>86.953</td>\n",
       "    </tr>\n",
       "    <tr>\n",
       "      <th>4</th>\n",
       "      <td>0.487</td>\n",
       "      <td>0.952</td>\n",
       "      <td>1.0</td>\n",
       "      <td>-4.429</td>\n",
       "      <td>0.0</td>\n",
       "      <td>0.0613</td>\n",
       "      <td>0.000228</td>\n",
       "      <td>0.000000</td>\n",
       "      <td>0.161</td>\n",
       "      <td>0.329</td>\n",
       "      <td>125.993</td>\n",
       "    </tr>\n",
       "  </tbody>\n",
       "</table>\n",
       "</div>"
      ],
      "text/plain": [
       "   Danceability  Energy   Key  ...  Liveness  Valence    Tempo\n",
       "0         0.624   0.857  10.0  ...     0.110    0.324  131.926\n",
       "1         0.517   0.916   0.0  ...     0.306    0.444  135.996\n",
       "2         0.251   0.894   8.0  ...     0.123    0.297  114.223\n",
       "3         0.469   0.743   1.0  ...     0.276    0.481   86.953\n",
       "4         0.487   0.952   1.0  ...     0.161    0.329  125.993\n",
       "\n",
       "[5 rows x 11 columns]"
      ]
     },
     "execution_count": 18,
     "metadata": {
      "tags": []
     },
     "output_type": "execute_result"
    }
   ],
   "source": [
    "# Displaying the top 5 records in the dataframe after removing string columns\n",
    "\n",
    "data.head()"
   ]
  },
  {
   "cell_type": "markdown",
   "metadata": {
    "id": "3ZZ_89M3Hwve"
   },
   "source": [
    "# Classification of Genre"
   ]
  },
  {
   "cell_type": "markdown",
   "metadata": {
    "id": "0zsilfUG_0Lg"
   },
   "source": [
    "In this project, the genre labels are classified by using a Classification Model. The classification model is initially trained with a given training dataset and then it can be used to predict the Genre for a given song.\n",
    "<br><br>\n",
    "For the given dataset, the dataset is split into two parts, one for training and other for validation. The training set will be used to train the classification model and validation set will be used to measure the accuracy of the trained model. The training set will be initially normalized using StandardScaler normalization then the dimensionality is reduced using PCA.\n",
    "<br><br>\n",
    "Multiple Classification algorithms will be used and trained with different parameters using GridSearch and the best classifier is fetched based on their score.\n",
    "The classification algorithms used are:\n",
    "* K Neighbors Classifier\n",
    "* Random Forest Classifier\n",
    "* Decision Tree Classifier"
   ]
  },
  {
   "cell_type": "code",
   "execution_count": 19,
   "metadata": {
    "id": "KUTMoqaeDjOz"
   },
   "outputs": [],
   "source": [
    "# Initializing the feature vector and labels to train the classification model\n",
    "\n",
    "X = data\n",
    "y = df.Genre_ID"
   ]
  },
  {
   "cell_type": "code",
   "execution_count": 20,
   "metadata": {
    "id": "bKGgVKhoDVrY"
   },
   "outputs": [],
   "source": [
    "# Creating a Holdout set by splitting the dataframe to predict and validate the classification model\n",
    "\n",
    "X_train, X_test, y_train, y_test = train_test_split(X, y, test_size=0.3, random_state=42)"
   ]
  },
  {
   "cell_type": "code",
   "execution_count": 21,
   "metadata": {
    "id": "i_ZuQi-DDVws"
   },
   "outputs": [],
   "source": [
    "# Normalizing the training dataset by removing mean and scaling it to unit variance using StandardScaler transformation\n",
    "# Reference: https://scikit-learn.org/stable/modules/generated/sklearn.preprocessing.StandardScaler.html\n",
    "\n",
    "stdScaler = StandardScaler()\n",
    "X_train_scaled = stdScaler.fit_transform(X_train)\n",
    "X_test_scaled = stdScaler.fit_transform(X_test)"
   ]
  },
  {
   "cell_type": "markdown",
   "metadata": {
    "id": "O1CfguvOFFgz"
   },
   "source": []
  },
  {
   "cell_type": "code",
   "execution_count": 22,
   "metadata": {
    "colab": {
     "base_uri": "https://localhost:8080/",
     "height": 446
    },
    "id": "9QDzlmGvzWgg",
    "outputId": "ea21a5cb-9619-4260-8512-0292487fbcdb"
   },
   "outputs": [
    {
     "data": {
      "image/png": "[encoded data removed]",
      "text/plain": [
       "<Figure size 720x504 with 1 Axes>"
      ]
     },
     "metadata": {
      "image/png": {
       "height": 430,
       "width": 622
      },
      "needs_background": "light",
      "tags": []
     },
     "output_type": "display_data"
    }
   ],
   "source": [
    "# Plotting the graph with total explained variance values in PCA for different number of components\n",
    "# Setting 0.95 as the threshold value\n",
    "\n",
    "pca = PCA().fit(X_train_scaled)\n",
    "\n",
    "plt.figure(figsize=(10,7))\n",
    "plt.plot(np.cumsum(pca.explained_variance_ratio_),color='k',lw=2)\n",
    "plt.xlabel('Number of components')\n",
    "plt.ylabel('Total explained variance')\n",
    "plt.xlim(0,12)\n",
    "plt.yticks(np.arange(0,1.1,0.1))\n",
    "plt.axvline(8,c='b')\n",
    "plt.axhline(0.95,c='r')\n",
    "plt.show();"
   ]
  },
  {
   "cell_type": "markdown",
   "metadata": {
    "id": "L5fol2UfG922"
   },
   "source": [
    "It is observed that for 8 components, the variance value is near 95%. Hence, we will be using 8 as the component count."
   ]
  },
  {
   "cell_type": "code",
   "execution_count": 24,
   "metadata": {
    "id": "avo0znezNo6n"
   },
   "outputs": [],
   "source": [
    "# Performing dimensionality reduction of the dataset using PCA\n",
    "\n",
    "pca = PCA(n_components=8, random_state=42)\n",
    "X_train_scaled = pca.fit_transform(X_train_scaled)\n",
    "X_test_scaled = pca.fit_transform(X_test_scaled)"
   ]
  },
  {
   "cell_type": "code",
   "execution_count": 25,
   "metadata": {
    "id": "WdQ3bQ64zWs1"
   },
   "outputs": [],
   "source": [
    "# Initializing the StratifiedKFold with 2 splits to perform GridSearch\n",
    "\n",
    "skf = StratifiedKFold(n_splits=2, shuffle=True, random_state=42)"
   ]
  },
  {
   "cell_type": "markdown",
   "metadata": {
    "id": "f8cFkwu5Cdrt"
   },
   "source": [
    "### K Neighbors Classifier"
   ]
  },
  {
   "cell_type": "code",
   "execution_count": 26,
   "metadata": {
    "colab": {
     "base_uri": "https://localhost:8080/"
    },
    "id": "rFczbeA9zWwR",
    "outputId": "77869a4e-c264-4156-a1f6-bb617b6bded7"
   },
   "outputs": [
    {
     "name": "stdout",
     "output_type": "stream",
     "text": [
      "Fitting 2 folds for each of 10 candidates, totalling 20 fits\n"
     ]
    },
    {
     "name": "stderr",
     "output_type": "stream",
     "text": [
      "/usr/local/lib/python3.6/dist-packages/sklearn/model_selection/_split.py:667: UserWarning: The least populated class in y has only 1 members, which is less than n_splits=2.\n",
      "  % (min_groups, self.n_splits)), UserWarning)\n",
      "[Parallel(n_jobs=-1)]: Using backend LokyBackend with 2 concurrent workers.\n",
      "[Parallel(n_jobs=-1)]: Done  20 out of  20 | elapsed:   51.5s finished\n"
     ]
    },
    {
     "name": "stdout",
     "output_type": "stream",
     "text": [
      "Score: 0.052408044456205345\n"
     ]
    }
   ],
   "source": [
    "# Performing GridSearch on KNeighborsClassifier to obtain best score using different parameters\n",
    "\n",
    "knn_params = {'n_neighbors':range(1,11)}\n",
    "\n",
    "knn = KNeighborsClassifier(n_jobs=-1)\n",
    "\n",
    "knn_grid= GridSearchCV(knn,knn_params,cv=skf,n_jobs =-1,verbose=True)\n",
    "\n",
    "knn_grid.fit(X_train_scaled,y_train)\n",
    "\n",
    "print(\"Score:\", knn_grid.best_score_)"
   ]
  },
  {
   "cell_type": "markdown",
   "metadata": {
    "id": "xkutVXS5C51R"
   },
   "source": [
    "### Random Forest Classifier"
   ]
  },
  {
   "cell_type": "code",
   "execution_count": 27,
   "metadata": {
    "colab": {
     "base_uri": "https://localhost:8080/"
    },
    "id": "EL8yKGPezWmi",
    "outputId": "869d76a1-ab4f-4151-cfe2-d35cb1bafbb1"
   },
   "outputs": [
    {
     "name": "stdout",
     "output_type": "stream",
     "text": [
      "Fitting 2 folds for each of 1 candidates, totalling 2 fits\n"
     ]
    },
    {
     "name": "stderr",
     "output_type": "stream",
     "text": [
      "/usr/local/lib/python3.6/dist-packages/sklearn/model_selection/_split.py:667: UserWarning: The least populated class in y has only 1 members, which is less than n_splits=2.\n",
      "  % (min_groups, self.n_splits)), UserWarning)\n",
      "[Parallel(n_jobs=-1)]: Using backend LokyBackend with 2 concurrent workers.\n",
      "[Parallel(n_jobs=-1)]: Done   2 out of   2 | elapsed:  1.2min remaining:    0.0s\n",
      "[Parallel(n_jobs=-1)]: Done   2 out of   2 | elapsed:  1.2min finished\n"
     ]
    },
    {
     "name": "stdout",
     "output_type": "stream",
     "text": [
      "Score: 0.04077798359354327\n"
     ]
    }
   ],
   "source": [
    "# Performing GridSearch on Random Forest Classifier to obtain best score using different parameters\n",
    "\n",
    "parameters = {'max_features':[4],'min_samples_leaf':[1],'max_depth':[3]}\n",
    "\n",
    "rfc = RandomForestClassifier(n_estimators=100,random_state=42,n_jobs=-1)\n",
    "\n",
    "forest_grid = GridSearchCV(rfc,parameters,n_jobs=-1,cv=skf,verbose=1)\n",
    "\n",
    "forest_grid.fit(X_train_scaled,y_train)\n",
    "\n",
    "print(\"Score:\", forest_grid.best_score_)"
   ]
  },
  {
   "cell_type": "markdown",
   "metadata": {
    "id": "q-a_922hC_V2"
   },
   "source": [
    "### Decision Tree Classifier"
   ]
  },
  {
   "cell_type": "code",
   "execution_count": 28,
   "metadata": {
    "colab": {
     "base_uri": "https://localhost:8080/"
    },
    "id": "_KWXysLx5j3I",
    "outputId": "f89bc319-f7f4-48be-a1e1-11833b217984"
   },
   "outputs": [
    {
     "name": "stdout",
     "output_type": "stream",
     "text": [
      "Fitting 2 folds for each of 150 candidates, totalling 300 fits\n"
     ]
    },
    {
     "name": "stderr",
     "output_type": "stream",
     "text": [
      "/usr/local/lib/python3.6/dist-packages/sklearn/model_selection/_split.py:667: UserWarning: The least populated class in y has only 1 members, which is less than n_splits=2.\n",
      "  % (min_groups, self.n_splits)), UserWarning)\n",
      "[Parallel(n_jobs=-1)]: Using backend LokyBackend with 2 concurrent workers.\n",
      "[Parallel(n_jobs=-1)]: Done  78 tasks      | elapsed:   15.7s\n",
      "[Parallel(n_jobs=-1)]: Done 242 tasks      | elapsed:  1.4min\n",
      "[Parallel(n_jobs=-1)]: Done 297 out of 300 | elapsed:  2.0min remaining:    1.2s\n",
      "[Parallel(n_jobs=-1)]: Done 300 out of 300 | elapsed:  2.1min finished\n"
     ]
    },
    {
     "name": "stdout",
     "output_type": "stream",
     "text": [
      "Score: 0.053320984387404076\n"
     ]
    }
   ],
   "source": [
    "# Performing GridSearch on Decision Tree Classifier to obtain best score using different parameters\n",
    "\n",
    "tree = DecisionTreeClassifier()\n",
    "\n",
    "tree_params = {'max_depth':range(1,11),'max_features':range(4,19)}\n",
    "\n",
    "tree_grid = GridSearchCV(tree,tree_params,cv=skf,n_jobs=-1,verbose=True)\n",
    "\n",
    "tree_grid.fit(X_train_scaled, y_train)\n",
    "\n",
    "print(\"Score:\", tree_grid.best_score_)"
   ]
  },
  {
   "cell_type": "markdown",
   "metadata": {
    "id": "XL80WuTwkat9"
   },
   "source": [
    "### Voting Classifier"
   ]
  },
  {
   "cell_type": "code",
   "execution_count": 29,
   "metadata": {
    "colab": {
     "base_uri": "https://localhost:8080/"
    },
    "id": "yDD5_h66R1vJ",
    "outputId": "0deb8f43-534d-4e04-e6e7-22c5d61b859f"
   },
   "outputs": [
    {
     "name": "stdout",
     "output_type": "stream",
     "text": [
      "F1 Score: 0.03105381469397863\n"
     ]
    }
   ],
   "source": [
    "# Using Voting Classifier to get the best classifier for the given dataset\n",
    "est = [\n",
    "        ('knn1', KNeighborsClassifier(n_neighbors=10)),  \n",
    "        ('rfc1', RandomForestClassifier(n_estimators=20)),\n",
    "        ('ada1', AdaBoostClassifier(n_estimators=100)),\n",
    "        ('ada2', AdaBoostClassifier(n_estimators=1000))\n",
    "      ];\n",
    "\n",
    "est_weights = [\n",
    "               3   # weight for knn1\n",
    "               1,   # weight for rfc1\n",
    "               2  # weight for ada1\n",
    "               1    # weight for ada2\n",
    "               ];\n",
    "    \n",
    "voting = VotingClassifier(estimators=est, voting='soft', weights=est_weights)\n",
    "\n",
    "# The returned voting classifier is trained with the training dataset and predictions are made on the validation set.\n",
    "voting.fit(X_train_scaled, y_train);\n",
    "y_pred   = voting.predict(X_test_scaled);\n",
    "\n",
    "print(\"F1 Score: \" + str(f1_score(y_test, y_pred, average='weighted', labels=np.unique(y_pred))))"
   ]
  },
  {
   "cell_type": "markdown",
   "metadata": {
    "id": "l50HnFv2GtAz"
   },
   "source": [
    "## Classification of Genre values using Decision Tree Classifier"
   ]
  },
  {
   "cell_type": "markdown",
   "metadata": {
    "id": "paHHg4x07iG3"
   },
   "source": [
    "Based on the comparative analysis of different Classifier best score values, it is observed that Decision Tree Classifier score is slightly higher than the other classifiers. Hence, using Decision Tree Classifier to predict the genre values to the validation dataset."
   ]
  },
  {
   "cell_type": "code",
   "execution_count": 30,
   "metadata": {
    "colab": {
     "base_uri": "https://localhost:8080/"
    },
    "id": "RpPzlX-_5j-L",
    "outputId": "326d41ba-079b-4893-8042-6b242350453a"
   },
   "outputs": [
    {
     "data": {
      "text/plain": [
       "DecisionTreeClassifier(ccp_alpha=0.0, class_weight=None, criterion='gini',\n",
       "                       max_depth=10, max_features=6, max_leaf_nodes=None,\n",
       "                       min_impurity_decrease=0.0, min_impurity_split=None,\n",
       "                       min_samples_leaf=1, min_samples_split=2,\n",
       "                       min_weight_fraction_leaf=0.0, presort='deprecated',\n",
       "                       random_state=None, splitter='best')"
      ]
     },
     "execution_count": 30,
     "metadata": {
      "tags": []
     },
     "output_type": "execute_result"
    }
   ],
   "source": [
    "# Picking the best estimator of Decision Tree Classifier obtained from the Grid Search and training the model\n",
    "\n",
    "classifier = tree_grid.best_estimator_\n",
    "\n",
    "classifier.fit(X_train_scaled, y_train)"
   ]
  },
  {
   "cell_type": "code",
   "execution_count": 31,
   "metadata": {
    "id": "6mH8nana5j66"
   },
   "outputs": [],
   "source": [
    "# Predicting the genre label values for the validation set\n",
    "\n",
    "y_pred = classifier.predict(X_test_scaled)"
   ]
  },
  {
   "cell_type": "code",
   "execution_count": 33,
   "metadata": {
    "colab": {
     "base_uri": "https://localhost:8080/"
    },
    "id": "qGj5rWya-z-H",
    "outputId": "fb1f8ab6-9627-4be0-cc40-0b1b68d5423a"
   },
   "outputs": [
    {
     "data": {
      "text/plain": [
       "array([  5, 159,  41, ..., 282, 234, 476])"
      ]
     },
     "execution_count": 33,
     "metadata": {
      "tags": []
     },
     "output_type": "execute_result"
    }
   ],
   "source": [
    "# Displaying the records of the predicted labels\n",
    "\n",
    "y_pred"
   ]
  },
  {
   "cell_type": "code",
   "execution_count": 35,
   "metadata": {
    "colab": {
     "base_uri": "https://localhost:8080/"
    },
    "id": "n-4UFgnT5jzh",
    "outputId": "a002cdb3-1ba7-4e8b-9554-1333db4a0fbe"
   },
   "outputs": [
    {
     "name": "stdout",
     "output_type": "stream",
     "text": [
      "RMSE: 24.069110029388632\n"
     ]
    }
   ],
   "source": [
    "# Computing the RMSE score between actual labels and predicted labels\n",
    "\n",
    "mse = mean_squared_error(y_test, y_pred)\n",
    "print(\"RMSE:\", math.sqrt(mse))"
   ]
  },
  {
   "cell_type": "code",
   "execution_count": 37,
   "metadata": {
    "colab": {
     "base_uri": "https://localhost:8080/"
    },
    "id": "-oQGQweKzWKz",
    "outputId": "c2cbbe26-470c-4f33-c8f7-7bc9aa92f019"
   },
   "outputs": [
    {
     "name": "stdout",
     "output_type": "stream",
     "text": [
      "F1 Score: 0.3376361968718211\n"
     ]
    }
   ],
   "source": [
    "# Computing the F1 score between actual labels and predicted labels\n",
    "\n",
    "f1score = f1_score(y_test, y_pred, average='weighted', labels=np.unique(y_pred))\n",
    "print(\"F1 Score:\", f1score)"
   ]
  },
  {
   "cell_type": "markdown",
   "metadata": {
    "id": "Qsq_IMmCPjMf"
   },
   "source": [
    "# Clustering"
   ]
  },
  {
   "cell_type": "markdown",
   "metadata": {
    "id": "PPs8JpBn5kv2"
   },
   "source": [
    "The given dataset is first normalized using StandardScaler normalization and then clustered using couple of Clustering algorithms. The clustering algorithms used are K-Means Clustering and DBSCAN Clustering."
   ]
  },
  {
   "cell_type": "markdown",
   "metadata": {
    "id": "zKU5pF_V5-_P"
   },
   "source": [
    "The performance of the clustering algorithms is evaluated using two score functions. They are:\n",
    "*   Silhouette Score\n",
    "*   Calinski & Harabasz Score\n",
    "\n",
    "\n"
   ]
  },
  {
   "cell_type": "code",
   "execution_count": 39,
   "metadata": {
    "id": "8Rw8l0YdRffU"
   },
   "outputs": [],
   "source": [
    "# Dropping the unnecessary columns for clustering\n",
    "\n",
    "data_to_cluster = df.drop(columns=['ID', 'Genre_ID', 'Name'])"
   ]
  },
  {
   "cell_type": "code",
   "execution_count": 40,
   "metadata": {
    "id": "d6HrJutNVrgR"
   },
   "outputs": [],
   "source": [
    "# Normalizing the dataset by removing mean and scaling it to unit variance using StandardScaler transformation\n",
    "# Reference: https://scikit-learn.org/stable/modules/generated/sklearn.preprocessing.StandardScaler.html\n",
    "\n",
    "stdScaler = StandardScaler()\n",
    "data_to_cluster_scaled = stdScaler.fit_transform(data_to_cluster)"
   ]
  },
  {
   "cell_type": "code",
   "execution_count": 41,
   "metadata": {
    "id": "SN8pIdZQXS4A"
   },
   "outputs": [],
   "source": [
    "# Performing dimensionality reduction using PCA \n",
    "\n",
    "pca = PCA(n_components=8, random_state=42)\n",
    "data_to_cluster_scaled = pca.fit_transform(data_to_cluster_scaled)"
   ]
  },
  {
   "cell_type": "markdown",
   "metadata": {
    "id": "A1ShTF9PPnkb"
   },
   "source": [
    "### K-Means Clustering"
   ]
  },
  {
   "cell_type": "markdown",
   "metadata": {
    "id": "s6vVaJPD5g7i"
   },
   "source": [
    "K-Means Clustering"
   ]
  },
  {
   "cell_type": "code",
   "execution_count": 44,
   "metadata": {
    "colab": {
     "base_uri": "https://localhost:8080/",
     "height": 298
    },
    "id": "EvsjbOpFRSmZ",
    "outputId": "38bb5ba6-2dcb-4cb0-ee10-91bdce538eb3"
   },
   "outputs": [
    {
     "data": {
      "image/png": "[encoded data removed]",
      "text/plain": [
       "<Figure size 432x288 with 1 Axes>"
      ]
     },
     "metadata": {
      "image/png": {
       "height": 282,
       "width": 401
      },
      "needs_background": "light",
      "tags": []
     },
     "output_type": "display_data"
    }
   ],
   "source": [
    "# Building a K-Means Clustering model for different values of K and computing the score for each K and plotting an Elbow curve\n",
    "# Reference: https://www.kaggle.com/yugagrawal95/k-means-clustering-using-seaborn-visualization\n",
    "\n",
    "kmeans = [KMeans(n_clusters=i) for i in range(1,20)]\n",
    "score = [kmeans[i].fit(data_to_cluster_scaled).score(data_to_cluster_scaled) for i in range(len(kmeans))]\n",
    "plt.plot(range(1,20), score)\n",
    "plt.xlabel('Number of Clusters')\n",
    "plt.ylabel('Score')\n",
    "plt.axvline(8,c='r')\n",
    "plt.title('Elbow Curve')\n",
    "plt.show()"
   ]
  },
  {
   "cell_type": "code",
   "execution_count": 49,
   "metadata": {
    "colab": {
     "base_uri": "https://localhost:8080/",
     "height": 298
    },
    "id": "5ybu0AV6nMY4",
    "outputId": "2473a8ce-5ef3-4259-e847-69d323f0115e"
   },
   "outputs": [
    {
     "data": {
      "image/png": "[encoded data removed]",
      "text/plain": [
       "<Figure size 432x288 with 1 Axes>"
      ]
     },
     "metadata": {
      "image/png": {
       "height": 282,
       "width": 409
      },
      "needs_background": "light",
      "tags": []
     },
     "output_type": "display_data"
    }
   ],
   "source": [
    "# Building a K-Means Clustering model for different values of K and computing the CH score for each K\n",
    "num_clusters = [3,5,6,8,10,15,20]\n",
    "CHscores    = []\n",
    "\n",
    "for k in num_clusters:\n",
    "    kmeans = KMeans(n_clusters = k, random_state = 300).fit(data_to_cluster_scaled)\n",
    "    score = calinski_harabasz_score(data_to_cluster_scaled, kmeans.labels_)\n",
    "    CHscores.append(score)\n",
    "\n",
    "# Plotting a graph between different K values and their respective CH scores\n",
    "plt.plot(num_clusters, CHscores)\n",
    "plt.xlabel('No. of Clusters')\n",
    "plt.ylabel('Calinski and Harabaz Score')\n",
    "plt.title('Clustering performance trend')\n",
    "plt.show()"
   ]
  },
  {
   "cell_type": "code",
   "execution_count": 50,
   "metadata": {
    "colab": {
     "base_uri": "https://localhost:8080/"
    },
    "id": "H9LQKBm8P2oO",
    "outputId": "406e86d7-4094-4f9d-ca87-2456e7235e1f"
   },
   "outputs": [
    {
     "data": {
      "text/plain": [
       "KMeans(algorithm='auto', copy_x=True, init='k-means++', max_iter=300,\n",
       "       n_clusters=8, n_init=10, n_jobs=None, precompute_distances='auto',\n",
       "       random_state=42, tol=0.0001, verbose=0)"
      ]
     },
     "execution_count": 50,
     "metadata": {
      "tags": []
     },
     "output_type": "execute_result"
    }
   ],
   "source": [
    "# Initializing the K-Means Clustering model using the number of clusters decided above and fitting the data into it\n",
    "\n",
    "kmeans = KMeans(n_clusters=8, random_state=42)\n",
    "kmeans.fit(data_to_cluster_scaled)"
   ]
  },
  {
   "cell_type": "code",
   "execution_count": 51,
   "metadata": {
    "id": "yf6217RYVMQY"
   },
   "outputs": [],
   "source": [
    "# Fetching the predicted label values based on DBSCAN Clustering\n",
    "\n",
    "predicted_labels = kmeans.labels_"
   ]
  },
  {
   "cell_type": "code",
   "execution_count": 52,
   "metadata": {
    "colab": {
     "base_uri": "https://localhost:8080/"
    },
    "id": "brOTGr_uP2sM",
    "outputId": "8bf04130-887b-4bbf-9ebf-d284913026f6"
   },
   "outputs": [
    {
     "name": "stdout",
     "output_type": "stream",
     "text": [
      "Silhouette Score:  0.15028273483601293\n"
     ]
    }
   ],
   "source": [
    "# Computing the Silhouette Score for the predicted labels using K-Means clustering\n",
    "\n",
    "silscore = silhouette_score(data_to_cluster_scaled, predicted_labels)\n",
    "print(\"Silhouette Score: \", silscore)"
   ]
  },
  {
   "cell_type": "code",
   "execution_count": 53,
   "metadata": {
    "colab": {
     "base_uri": "https://localhost:8080/"
    },
    "id": "rlg_-m4kVYPJ",
    "outputId": "86629ddd-7377-475b-9ef3-0e453fd9144f"
   },
   "outputs": [
    {
     "name": "stdout",
     "output_type": "stream",
     "text": [
      "CH Score:  14657.659758039264\n"
     ]
    }
   ],
   "source": [
    "# Computing the CH Score for the predicted labels using K-Means clustering\n",
    "\n",
    "chscore = calinski_harabasz_score(data_to_cluster_scaled, predicted_labels)\n",
    "print(\"CH Score: \", chscore)"
   ]
  },
  {
   "cell_type": "markdown",
   "metadata": {
    "id": "Zo8Z4JquPtr1"
   },
   "source": [
    "### DBSCAN Clustering"
   ]
  },
  {
   "cell_type": "markdown",
   "metadata": {
    "id": "eUZNXTxo4TEf"
   },
   "source": [
    "DBSCAN Clustering"
   ]
  },
  {
   "cell_type": "code",
   "execution_count": 54,
   "metadata": {
    "colab": {
     "base_uri": "https://localhost:8080/"
    },
    "id": "IO9PvLsZP178",
    "outputId": "8c624297-601d-450c-f8ec-e22765e32efe"
   },
   "outputs": [
    {
     "data": {
      "text/plain": [
       "DBSCAN(algorithm='auto', eps=0.5, leaf_size=30, metric='euclidean',\n",
       "       metric_params=None, min_samples=15, n_jobs=None, p=None)"
      ]
     },
     "execution_count": 54,
     "metadata": {
      "tags": []
     },
     "output_type": "execute_result"
    }
   ],
   "source": [
    "# Initializing the DBSCAN Clustering model and fitting the data into it\n",
    "\n",
    "dbsc = DBSCAN(eps = .5, min_samples = 15)\n",
    "dbsc.fit(data_to_cluster_scaled)"
   ]
  },
  {
   "cell_type": "code",
   "execution_count": 55,
   "metadata": {
    "id": "IUudM9ZfP2It"
   },
   "outputs": [],
   "source": [
    "# Fetching the predicted label values based on DBSCAN Clustering\n",
    "\n",
    "predicted_labels = dbsc.labels_"
   ]
  },
  {
   "cell_type": "code",
   "execution_count": 56,
   "metadata": {
    "colab": {
     "base_uri": "https://localhost:8080/"
    },
    "id": "C6f60RfXP1rE",
    "outputId": "41147b56-c7d2-48d2-fcc4-97ae761ac245"
   },
   "outputs": [
    {
     "name": "stdout",
     "output_type": "stream",
     "text": [
      "Silhouette Score:  -0.47909102650339874\n"
     ]
    }
   ],
   "source": [
    "# Computing the Silhouette Score for the predicted labels using DBSCAN clustering\n",
    "\n",
    "silscore = silhouette_score(data_to_cluster_scaled, predicted_labels)\n",
    "print(\"Silhouette Score: \", silscore)"
   ]
  },
  {
   "cell_type": "code",
   "execution_count": 57,
   "metadata": {
    "colab": {
     "base_uri": "https://localhost:8080/"
    },
    "id": "LNshhoQ1ZPIG",
    "outputId": "e086cc1a-69b5-47fb-a6e8-9e9faf5cf450"
   },
   "outputs": [
    {
     "name": "stdout",
     "output_type": "stream",
     "text": [
      "CH Score:  182.7865292948982\n"
     ]
    }
   ],
   "source": [
    "# Computing the CH Score for the predicted labels using DBSCAN clustering\n",
    "\n",
    "chscore = calinski_harabasz_score(data_to_cluster_scaled, predicted_labels)\n",
    "print(\"CH Score: \", chscore)"
   ]
  },
  {
   "cell_type": "markdown",
   "metadata": {
    "id": "pBoZAxe6agqB"
   },
   "source": [
    "### Mapping K-Means Clustering Results"
   ]
  },
  {
   "cell_type": "markdown",
   "metadata": {
    "id": "ZVOGEHMd0w6K"
   },
   "source": [
    "Based on the comparative analysis of Silhouette score and Calinski Harabasz score, it shows that K-Means Clustering has more accuracy and appropriate for this dataset. Hence using the Cluster labels from K-Means clustering to assign them to songs in the dataframe."
   ]
  },
  {
   "cell_type": "code",
   "execution_count": 58,
   "metadata": {
    "id": "dK8QSMkIaDWo"
   },
   "outputs": [],
   "source": [
    "# Assigning the predicted labels from K-Means Clustering to the songs\n",
    "\n",
    "predicted_labels = kmeans.labels_\n",
    "df['Cluster'] = predicted_labels"
   ]
  },
  {
   "cell_type": "code",
   "execution_count": 59,
   "metadata": {
    "colab": {
     "base_uri": "https://localhost:8080/"
    },
    "id": "NShLFj4raPBm",
    "outputId": "ee9b0391-e846-42be-a60f-0a11065523e1"
   },
   "outputs": [
    {
     "name": "stdout",
     "output_type": "stream",
     "text": [
      "Clusters: 8\n"
     ]
    }
   ],
   "source": [
    "# Displaying the number of clusters\n",
    "\n",
    "print(\"Clusters:\", len(np.unique(df['Cluster'])))"
   ]
  },
  {
   "cell_type": "code",
   "execution_count": 60,
   "metadata": {
    "colab": {
     "base_uri": "https://localhost:8080/"
    },
    "id": "YIfPVYzmaTK9",
    "outputId": "fb785075-0984-4739-b585-4f1f8b470b4a"
   },
   "outputs": [
    {
     "data": {
      "text/plain": [
       "1    22651\n",
       "4    19302\n",
       "7    16931\n",
       "0    15305\n",
       "2    14940\n",
       "5     8796\n",
       "3     5973\n",
       "6     4074\n",
       "Name: Cluster, dtype: int64"
      ]
     },
     "execution_count": 60,
     "metadata": {
      "tags": []
     },
     "output_type": "execute_result"
    }
   ],
   "source": [
    "# Displaying the count of songs in each cluster\n",
    "\n",
    "df['Cluster'].value_counts()"
   ]
  },
  {
   "cell_type": "markdown",
   "metadata": {
    "id": "OlFTuAg90Pur"
   },
   "source": [
    "This shows that the songs are assigned with a Cluster label after the clustering and how many songs are present in each cluster."
   ]
  },
  {
   "cell_type": "code",
   "execution_count": 61,
   "metadata": {
    "colab": {
     "base_uri": "https://localhost:8080/",
     "height": 302
    },
    "id": "7iOdnVl6odNn",
    "outputId": "031447ab-58dd-41ff-df3a-763ceda718d9"
   },
   "outputs": [
    {
     "data": {
      "text/plain": [
       "<matplotlib.axes._subplots.AxesSubplot at 0x7fb6d7e20358>"
      ]
     },
     "execution_count": 61,
     "metadata": {
      "tags": []
     },
     "output_type": "execute_result"
    },
    {
     "data": {
      "image/png": "[encoded data removed]",
      "text/plain": [
       "<Figure size 432x288 with 1 Axes>"
      ]
     },
     "metadata": {
      "image/png": {
       "height": 267,
       "width": 409
      },
      "needs_background": "light",
      "tags": []
     },
     "output_type": "display_data"
    }
   ],
   "source": [
    "# Plotting the count of songs in each cluster on bar graph to visualize the song distribution in clusters\n",
    "# Reference: https://seaborn.pydata.org/generated/seaborn.countplot.html\n",
    "\n",
    "sns.countplot(data=df, x='Cluster', label='Count')"
   ]
  },
  {
   "cell_type": "markdown",
   "metadata": {
    "id": "MjoFBFc80Fcp"
   },
   "source": [
    "The above bar graph depicts the distribution of songs in different clusters."
   ]
  },
  {
   "cell_type": "markdown",
   "metadata": {
    "id": "ZHnZ-02MTbCk"
   },
   "source": [
    "# Recommendation System"
   ]
  },
  {
   "cell_type": "markdown",
   "metadata": {
    "id": "RFEj4qnDxOUP"
   },
   "source": [
    "This section consists of the functions which takes the songs from users playlist as parameter and returns the most similar songs based on their cosine similarity values"
   ]
  },
  {
   "cell_type": "code",
   "execution_count": 62,
   "metadata": {
    "id": "9YA9LivAHL2L"
   },
   "outputs": [],
   "source": [
    "# Function to fetch the similar songs to a given song from the songs present in the cluster the given song is in\n",
    "# This function calculates the cosine similarity of all the songs in the cluster with given song and picks the songs with high cosine similarity value\n",
    "# All the songs are sorted and filtered for top 5 songs based on their cosine similarity and rating values are calculated based on the given song's rating\n",
    "\n",
    "def getSimilarSongsForGivenSongFromCluster(song_id, rating):\n",
    "\n",
    "  no_of_songs = 5\n",
    "\n",
    "  # Filtering the dataset to fetch the songs from the same cluster as the given song\n",
    "  given_song = df[df['ID'] == song_id] \n",
    "  cluster_id = given_song.Cluster.item()\n",
    "  cluster_songs = df[df['Cluster'] == cluster_id]\n",
    "\n",
    "  # Formatting the current song value into array\n",
    "  current_song = given_song.drop(['Name', 'ID', 'Cluster'], axis=1)\n",
    "  current_song = current_song.values.tolist() \n",
    "\n",
    "  # Formatting the cluster songs value into array\n",
    "  cluster_songs_list = cluster_songs.drop(['Name', 'ID', 'Cluster'], axis=1)\n",
    "  cluster_songs_list = cluster_songs_list.values.tolist()\n",
    "\n",
    "  # Computing the COSINE SIMILARITY values\n",
    "  cosine_sim = cosine_similarity(current_song, cluster_songs_list)[0]\n",
    "\n",
    "  # Mapping the cosine similarity values with each song\n",
    "  song_similarity_map = pd.DataFrame()\n",
    "  song_similarity_map['Name'] = cluster_songs['Name']\n",
    "  song_similarity_map['song_id'] = cluster_songs['ID']\n",
    "  song_similarity_map['similarity'] = cosine_sim\n",
    "\n",
    "  # Removing the current song from similar songs list\n",
    "  song_similarity_map = song_similarity_map[song_similarity_map['song_id'] != song_id]\n",
    "\n",
    "  # Sorting the songs based on similarity values in Descending order\n",
    "  song_similarity_map = song_similarity_map.sort_values(by=['similarity'], ascending=False)\n",
    "\n",
    "  most_similar_songs = song_similarity_map[:no_of_songs]\n",
    "  most_similar_songs.insert(1,'Rating',0)\n",
    "\n",
    "  # Calculating the rating value of each song by multiplying current song rating with cosine similarity value\n",
    "  for index, row in most_similar_songs.iterrows(): \n",
    "    most_similar_songs.loc[index, \"Rating\"] = rating * row['similarity']\n",
    "\n",
    "  most_similar_songs = most_similar_songs.drop(['similarity'], axis = 1)\n",
    "\n",
    "  return most_similar_songs"
   ]
  },
  {
   "cell_type": "code",
   "execution_count": 63,
   "metadata": {
    "id": "PHIZ5TfPM4_1"
   },
   "outputs": [],
   "source": [
    "# Function to fetch the similar songs to a given song from complete set of songs in the database\n",
    "# This function calculates the cosine similarity of all the songs with given song and picks the songs with high cosine similarity value\n",
    "# All the songs are sorted and filtered for top 5 songs based on their cosine similarity and rating values are calculated based on the given song's rating\n",
    "\n",
    "def getSimilarSongsForGivenSongFromWholeDataSet(song_id, rating):\n",
    "\n",
    "  no_of_songs = 5\n",
    "\n",
    "  # Fetching the current song from dataset based on song_id\n",
    "  given_song = df[df['ID'] == song_id] \n",
    "  all_songs = df.copy()\n",
    "\n",
    "  # Formatting the current song value into array\n",
    "  current_song = given_song.drop(['Name', 'ID', 'Cluster'], axis=1)\n",
    "  current_song = current_song.values.tolist() \n",
    "\n",
    "  # Formatting all the songs value into array\n",
    "  all_songs_list = all_songs.drop(['Name', 'ID', 'Cluster'], axis=1)\n",
    "  all_songs_list = all_songs_list.values.tolist()\n",
    "\n",
    "  # Computing the COSINE SIMILARITY values\n",
    "  cosine_sim = cosine_similarity(current_song, all_songs_list)[0]\n",
    "\n",
    "  # Mapping the cosine similarity values with each song\n",
    "  song_similarity_map = pd.DataFrame()\n",
    "  song_similarity_map['Name'] = all_songs['Name']\n",
    "  song_similarity_map['song_id'] = all_songs['ID']\n",
    "  song_similarity_map['similarity'] = cosine_sim\n",
    "\n",
    "  # Removing the current song from similar songs list\n",
    "  song_similarity_map = song_similarity_map[song_similarity_map['song_id'] != song_id]\n",
    "\n",
    "  # Sorting the songs based on similarity values in Descending order\n",
    "  song_similarity_map = song_similarity_map.sort_values(by=['similarity'], ascending=False)\n",
    "\n",
    "  most_similar_songs = song_similarity_map[:no_of_songs]\n",
    "  most_similar_songs.insert(1,'Rating',0)\n",
    "\n",
    "  # Calculating the rating value of each song by multiplying current song rating with cosine similarity value\n",
    "  for index, row in most_similar_songs.iterrows(): \n",
    "    most_similar_songs.loc[index, \"Rating\"] = rating * row['similarity']\n",
    "\n",
    "  most_similar_songs = most_similar_songs.drop(['similarity'], axis = 1)\n",
    "\n",
    "  return most_similar_songs"
   ]
  },
  {
   "cell_type": "code",
   "execution_count": 64,
   "metadata": {
    "id": "St055GEXd3z3"
   },
   "outputs": [],
   "source": [
    "# Function to fetch the most similar songs to the songs in a given playlist from cluster of songs the song is in\n",
    "# This function iterates over each song and fetches the most similar songs to it\n",
    "# All the recommended songs are sorted and filtered for top 5 based on their rating \n",
    "\n",
    "def getSimilarSongRecommendationsFromCluster(user_playlist):\n",
    "\n",
    "  song_ids = []\n",
    "  song_id_and_ratings = []\n",
    "\n",
    "  # Iterating over each song in the playlist\n",
    "  for song in user_playlist:\n",
    "    index = df.index[df['Name'] == song[0]]\n",
    "\n",
    "    # Checking if the given song is present in the song database\n",
    "    if len(index) == 0:\n",
    "      print(song[0] + \" is not found in the Song Database\")\n",
    "      return\n",
    "    else:\n",
    "      index = index[0].item()\n",
    "      song_id_and_ratings.append([df['ID'][index].item(), song[1]])\n",
    "      song_ids.append(df['ID'][index].item())\n",
    "      \n",
    "\n",
    "  similar_songs = pd.DataFrame(columns=['song_id', 'Name', 'Rating'])\n",
    "\n",
    "  # Iterating over each song in the playlist  \n",
    "  for song_id, rating in song_id_and_ratings:\n",
    "    # Fetching content based similar songs for each song from the cluster the song is in\n",
    "    similar_songs = pd.concat([similar_songs, getSimilarSongsForGivenSongFromCluster(song_id, rating)])\n",
    "\n",
    "  # Checking if the recommended songs are not already in the given playlist\n",
    "  similar_songs = similar_songs[~similar_songs.song_id.isin(song_ids)]\n",
    "\n",
    "  # Sorting the songs based on the predicted rating values and picking only top most songs\n",
    "  similar_songs = similar_songs.sort_values(by=['Rating'], ascending=False)[:5]\n",
    "\n",
    "  similar_songs = similar_songs.drop(['song_id'], axis=1)\n",
    "\n",
    "  return similar_songs\n",
    "    "
   ]
  },
  {
   "cell_type": "code",
   "execution_count": 75,
   "metadata": {
    "id": "eb6cLfoeNjNf"
   },
   "outputs": [],
   "source": [
    "# Function to fetch the most similar songs to the songs in a given playlist from complete collection of songs\n",
    "# This function iterates over each song and fetches the most similar songs to it\n",
    "# All the recommended songs are sorted and filtered for top 5 based on their rating \n",
    "\n",
    "def getSimilarSongRecommendations(user_playlist):\n",
    "\n",
    "  no_of_rec_songs = 5\n",
    "\n",
    "  song_ids = []\n",
    "  song_id_and_ratings = []\n",
    "\n",
    "  # Iterating over each song in the playlist\n",
    "  for song in user_playlist:\n",
    "    index = df.index[df['Name'] == song[0]]\n",
    "\n",
    "    # Checking if the given song is present in the song database\n",
    "    if len(index) == 0:\n",
    "      print(song[0] + \" is not found in the Song Database\")\n",
    "      return\n",
    "    else:\n",
    "      index = index[0].item()\n",
    "      song_id_and_ratings.append([df['ID'][index].item(), song[1]])\n",
    "      song_ids.append(df['ID'][index].item())\n",
    "      \n",
    "  similar_songs = pd.DataFrame(columns=['song_id', 'Name', 'Rating'])\n",
    "\n",
    "  # Iterating over each song in the playlist\n",
    "  for song_id, rating in song_id_and_ratings:\n",
    "    # Fetching content based similar songs for each song\n",
    "    similar_songs = pd.concat([similar_songs, getSimilarSongsForGivenSongFromWholeDataSet(song_id, rating)])\n",
    "\n",
    "  # Checking if the recommended songs are not already in the given playlist\n",
    "  similar_songs = similar_songs[~similar_songs.song_id.isin(song_ids)]\n",
    "\n",
    "  # Sorting the songs based on the predicted rating values and picking only top most songs\n",
    "  similar_songs = similar_songs.sort_values(by=['Rating'], ascending=False)[:no_of_rec_songs]\n",
    "\n",
    "  similar_songs = similar_songs.drop(['song_id'], axis=1)\n",
    "\n",
    "  return similar_songs"
   ]
  },
  {
   "cell_type": "markdown",
   "metadata": {
    "id": "x2uA7s36h4vp"
   },
   "source": [
    "# User Interface"
   ]
  },
  {
   "cell_type": "markdown",
   "metadata": {
    "id": "oH_oYgCNrjwy"
   },
   "source": [
    "In this section, we are simulating an User Interface where the User can enter all the songs in his playlist and provide ratings to those songs. Based on the songs added by the user into his playlist, song recommendations are provided to the user by fetching the top 5 most similar songs based on the content by generating cosine_similarity values for all the songs with the given song. The user provided rating values are used to calculate the ratings to the recommended songs by multiplying them with the cosine_similarity value."
   ]
  },
  {
   "cell_type": "code",
   "execution_count": 66,
   "metadata": {
    "id": "ATD3qqIMI_Vv"
   },
   "outputs": [],
   "source": [
    "# Function to accept inputs from user\n",
    "# User needs to enter the number of songs in the playlist, followed by the Song name and the rating to that song\n",
    "\n",
    "def getUserPlaylist():\n",
    "  count = input(\"Enter the number of songs in your playlist:\")\n",
    "\n",
    "  playlist = []\n",
    "  for i in range(int(count)):\n",
    "    song = []\n",
    "    song_name = input(\"Enter the name of the song:\")\n",
    "    rating = input(\"Enter the rating value for this song on the scale of 1 to 10:\")\n",
    "    song.append(song_name)\n",
    "    song.append(int(rating))\n",
    "    playlist.append(song) "
   ]
  },
  {
   "cell_type": "code",
   "execution_count": 67,
   "metadata": {
    "id": "D69E9xyoHPlV"
   },
   "outputs": [],
   "source": [
    "# Initial dummy values for User's playlist for testing\n",
    "\n",
    "playlist = [\n",
    "            ['YuveYuveYu', 9], \n",
    "            ['Gloryhammer', 8],\n",
    "            ['Animal', 7],\n",
    "            ['Promises', 9],\n",
    "            ['SlayerofKings', 8],\n",
    "            ]"
   ]
  },
  {
   "cell_type": "code",
   "execution_count": 77,
   "metadata": {
    "colab": {
     "base_uri": "https://localhost:8080/"
    },
    "id": "Q0l1xdUpTd2m",
    "outputId": "29b6c708-09cd-4185-8fc0-f3f5f41c6225"
   },
   "outputs": [
    {
     "name": "stdout",
     "output_type": "stream",
     "text": [
      "Enter the number of songs in your playlist:6\n",
      "Enter the name of the song:RiseofaHero\n",
      "Enter the rating value for this song on the scale of 1 to 10:9\n",
      "Enter the name of the song:SpillBloodOnFire\n",
      "Enter the rating value for this song on the scale of 1 to 10:10\n",
      "Enter the name of the song:FallofMonsegur\n",
      "Enter the rating value for this song on the scale of 1 to 10:8\n",
      "Enter the name of the song:BringUsPintsOfBeer\n",
      "Enter the rating value for this song on the scale of 1 to 10:7\n",
      "Enter the name of the song:BloodstainedGround\n",
      "Enter the rating value for this song on the scale of 1 to 10:8\n",
      "Enter the name of the song:LongnecksandRednecks\n",
      "Enter the rating value for this song on the scale of 1 to 10:9\n"
     ]
    }
   ],
   "source": [
    "#@title User Playlist Input Form\n",
    "# Function call to accept input for User's Playslist\n",
    "\n",
    "getUserPlaylist()"
   ]
  },
  {
   "cell_type": "code",
   "execution_count": 78,
   "metadata": {
    "colab": {
     "base_uri": "https://localhost:8080/",
     "height": 197
    },
    "id": "-kcF7MMmJ3Ek",
    "outputId": "d700e8f2-e520-4e91-997e-0b7b76995ff4"
   },
   "outputs": [
    {
     "data": {
      "text/html": [
       "<div>\n",
       "<style scoped>\n",
       "    .dataframe tbody tr th:only-of-type {\n",
       "        vertical-align: middle;\n",
       "    }\n",
       "\n",
       "    .dataframe tbody tr th {\n",
       "        vertical-align: top;\n",
       "    }\n",
       "\n",
       "    .dataframe thead th {\n",
       "        text-align: right;\n",
       "    }\n",
       "</style>\n",
       "<table border=\"1\" class=\"dataframe\">\n",
       "  <thead>\n",
       "    <tr style=\"text-align: right;\">\n",
       "      <th></th>\n",
       "      <th>Name</th>\n",
       "      <th>Rating</th>\n",
       "    </tr>\n",
       "  </thead>\n",
       "  <tbody>\n",
       "    <tr>\n",
       "      <th>71443</th>\n",
       "      <td>BringMeLove</td>\n",
       "      <td>8.999833</td>\n",
       "    </tr>\n",
       "    <tr>\n",
       "      <th>322</th>\n",
       "      <td>ElaRoubouMeuCaminhão</td>\n",
       "      <td>8.999830</td>\n",
       "    </tr>\n",
       "    <tr>\n",
       "      <th>74621</th>\n",
       "      <td>TheRevisionist</td>\n",
       "      <td>8.999808</td>\n",
       "    </tr>\n",
       "    <tr>\n",
       "      <th>56995</th>\n",
       "      <td>LoyaltyBeforeRoyalty</td>\n",
       "      <td>8.999799</td>\n",
       "    </tr>\n",
       "    <tr>\n",
       "      <th>373</th>\n",
       "      <td>RidingtheStorm</td>\n",
       "      <td>8.999724</td>\n",
       "    </tr>\n",
       "  </tbody>\n",
       "</table>\n",
       "</div>"
      ],
      "text/plain": [
       "                       Name    Rating\n",
       "71443           BringMeLove  8.999833\n",
       "322    ElaRoubouMeuCaminhão  8.999830\n",
       "74621        TheRevisionist  8.999808\n",
       "56995  LoyaltyBeforeRoyalty  8.999799\n",
       "373          RidingtheStorm  8.999724"
      ]
     },
     "execution_count": 78,
     "metadata": {
      "tags": []
     },
     "output_type": "execute_result"
    }
   ],
   "source": [
    "# Function call to fetch a playlist recommendation based on given playlist by considering all the songs in the Song Database\n",
    "\n",
    "getSimilarSongRecommendations(playlist)"
   ]
  },
  {
   "cell_type": "code",
   "execution_count": 79,
   "metadata": {
    "colab": {
     "base_uri": "https://localhost:8080/",
     "height": 197
    },
    "id": "RAQyI5nONx2H",
    "outputId": "78cd3f97-9886-4309-db7d-770ec26b8889"
   },
   "outputs": [
    {
     "data": {
      "text/html": [
       "<div>\n",
       "<style scoped>\n",
       "    .dataframe tbody tr th:only-of-type {\n",
       "        vertical-align: middle;\n",
       "    }\n",
       "\n",
       "    .dataframe tbody tr th {\n",
       "        vertical-align: top;\n",
       "    }\n",
       "\n",
       "    .dataframe thead th {\n",
       "        text-align: right;\n",
       "    }\n",
       "</style>\n",
       "<table border=\"1\" class=\"dataframe\">\n",
       "  <thead>\n",
       "    <tr style=\"text-align: right;\">\n",
       "      <th></th>\n",
       "      <th>Name</th>\n",
       "      <th>Rating</th>\n",
       "    </tr>\n",
       "  </thead>\n",
       "  <tbody>\n",
       "    <tr>\n",
       "      <th>103286</th>\n",
       "      <td>VirginBirds</td>\n",
       "      <td>8.999674</td>\n",
       "    </tr>\n",
       "    <tr>\n",
       "      <th>27581</th>\n",
       "      <td>FallenAngel</td>\n",
       "      <td>8.999641</td>\n",
       "    </tr>\n",
       "    <tr>\n",
       "      <th>5108</th>\n",
       "      <td>PicturingLove</td>\n",
       "      <td>8.999634</td>\n",
       "    </tr>\n",
       "    <tr>\n",
       "      <th>107604</th>\n",
       "      <td>SoulRun</td>\n",
       "      <td>8.999617</td>\n",
       "    </tr>\n",
       "    <tr>\n",
       "      <th>71489</th>\n",
       "      <td>Kush&amp;Corinthians</td>\n",
       "      <td>8.999606</td>\n",
       "    </tr>\n",
       "  </tbody>\n",
       "</table>\n",
       "</div>"
      ],
      "text/plain": [
       "                    Name    Rating\n",
       "103286       VirginBirds  8.999674\n",
       "27581        FallenAngel  8.999641\n",
       "5108       PicturingLove  8.999634\n",
       "107604           SoulRun  8.999617\n",
       "71489   Kush&Corinthians  8.999606"
      ]
     },
     "execution_count": 79,
     "metadata": {
      "tags": []
     },
     "output_type": "execute_result"
    }
   ],
   "source": [
    "# Function call to fetch a playlist recommendation based on given playlist by considering the songs in the Clusters the given songs are in\n",
    "\n",
    "getSimilarSongRecommendationsFromCluster(playlist)"
   ]
  }
 ],
 "metadata": {
  "accelerator": "GPU",
  "colab": {
   "collapsed_sections": [],
   "name": "256 Term Project.ipynb",
   "provenance": []
  },
  "kernelspec": {
   "display_name": "Python 3",
   "language": "python",
   "name": "python3"
  },
  "language_info": {
   "codemirror_mode": {
    "name": "ipython",
    "version": 3
   },
   "file_extension": ".py",
   "mimetype": "text/x-python",
   "name": "python",
   "nbconvert_exporter": "python",
   "pygments_lexer": "ipython3",
   "version": "3.8.3"
  }
 },
 "nbformat": 4,
 "nbformat_minor": 1
}
